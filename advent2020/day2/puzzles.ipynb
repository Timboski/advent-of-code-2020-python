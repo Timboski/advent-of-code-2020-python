{
 "metadata": {
  "language_info": {
   "codemirror_mode": {
    "name": "ipython",
    "version": 3
   },
   "file_extension": ".py",
   "mimetype": "text/x-python",
   "name": "python",
   "nbconvert_exporter": "python",
   "pygments_lexer": "ipython3",
   "version": "3.9.0-final"
  },
  "orig_nbformat": 2,
  "kernelspec": {
   "name": "python3",
   "display_name": "Python 3.9.0 64-bit",
   "metadata": {
    "interpreter": {
     "hash": "4cd7ab41f5fca4b9b44701077e38c5ffd31fe66a6cab21e0214b68d958d0e462"
    }
   }
  }
 },
 "nbformat": 4,
 "nbformat_minor": 2,
 "cells": [
  {
   "cell_type": "code",
   "execution_count": 1,
   "metadata": {},
   "outputs": [
    {
     "output_type": "stream",
     "name": "stdout",
     "text": [
      "/workspaces/advent-of-code-2020-python\n"
     ]
    }
   ],
   "source": [
    "cd /workspaces/advent-of-code-2020-python/"
   ]
  },
  {
   "cell_type": "code",
   "execution_count": 2,
   "metadata": {},
   "outputs": [],
   "source": [
    "from advent2020.day2.puzzle1_validation import Puzzle1Validation\n",
    "from advent2020.day2.puzzle2_validation import Puzzle2Validation\n",
    "input_data_path = \"advent2020/day2/input\""
   ]
  },
  {
   "cell_type": "code",
   "execution_count": 3,
   "metadata": {},
   "outputs": [
    {
     "output_type": "error",
     "ename": "NameError",
     "evalue": "name 'example_data_path' is not defined",
     "traceback": [
      "\u001b[0;31m---------------------------------------------------------------------------\u001b[0m",
      "\u001b[0;31mNameError\u001b[0m                                 Traceback (most recent call last)",
      "\u001b[0;32m<ipython-input-3-dae641cdd974>\u001b[0m in \u001b[0;36m<module>\u001b[0;34m\u001b[0m\n\u001b[1;32m      1\u001b[0m \u001b[0mpuzzle1\u001b[0m \u001b[0;34m=\u001b[0m \u001b[0mPuzzle1Validation\u001b[0m\u001b[0;34m(\u001b[0m\u001b[0;34m)\u001b[0m\u001b[0;34m\u001b[0m\u001b[0;34m\u001b[0m\u001b[0m\n\u001b[0;32m----> 2\u001b[0;31m \u001b[0mcount1\u001b[0m \u001b[0;34m=\u001b[0m \u001b[0mpuzzle1\u001b[0m\u001b[0;34m.\u001b[0m\u001b[0mcount_valid_entries_in_file\u001b[0m\u001b[0;34m(\u001b[0m\u001b[0mexample_data_path\u001b[0m\u001b[0;34m)\u001b[0m\u001b[0;34m\u001b[0m\u001b[0;34m\u001b[0m\u001b[0m\n\u001b[0m\u001b[1;32m      3\u001b[0m \u001b[0mprint\u001b[0m\u001b[0;34m(\u001b[0m\u001b[0mcount1\u001b[0m\u001b[0;34m)\u001b[0m\u001b[0;34m\u001b[0m\u001b[0;34m\u001b[0m\u001b[0m\n",
      "\u001b[0;31mNameError\u001b[0m: name 'example_data_path' is not defined"
     ]
    }
   ],
   "source": [
    "\n",
    "puzzle1 = Puzzle1Validation()\n",
    "count1 = puzzle1.count_valid_entries_in_file(input_data_path)\n",
    "print(count1)"
   ]
  },
  {
   "cell_type": "code",
   "execution_count": 11,
   "metadata": {},
   "outputs": [
    {
     "output_type": "stream",
     "name": "stdout",
     "text": [
      "558\n"
     ]
    }
   ],
   "source": [
    "puzzle2 = Puzzle2Validation()\n",
    "count2 = puzzle2.count_valid_entries_in_file(input_data_path)\n",
    "print(count2)"
   ]
  }
 ]
}